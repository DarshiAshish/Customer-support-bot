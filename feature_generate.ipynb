{
 "cells": [
  {
   "cell_type": "code",
   "execution_count": 32,
   "metadata": {},
   "outputs": [],
   "source": [
    "import numpy as np\n",
    "import pandas as pd\n",
    "import seaborn as sns"
   ]
  },
  {
   "cell_type": "code",
   "execution_count": 33,
   "metadata": {},
   "outputs": [],
   "source": [
    "# Import the datasets\n",
    "train_data = pd.read_csv(\"Bitext_Sample_Customer_Service_Training_Dataset.csv\")\n",
    "test_data = pd.read_csv(\"Bitext_Sample_Customer_Service_Testing_Dataset.csv\")\n",
    "validate_data =  pd.read_csv(\"Bitext_Sample_Customer_Service_validation_Dataset.csv\")"
   ]
  },
  {
   "cell_type": "markdown",
   "metadata": {},
   "source": [
    "Here, we are not worried about the category and tags features, so we can drop them directly."
   ]
  },
  {
   "cell_type": "code",
   "execution_count": 34,
   "metadata": {},
   "outputs": [],
   "source": [
    "train_data.drop([\"category\",\"tags\"],axis=1, inplace=True)"
   ]
  },
  {
   "cell_type": "code",
   "execution_count": 35,
   "metadata": {},
   "outputs": [],
   "source": [
    "test_data.drop([\"category\",\"tags\"],axis=1, inplace=True)"
   ]
  },
  {
   "cell_type": "code",
   "execution_count": 36,
   "metadata": {},
   "outputs": [],
   "source": [
    "validate_data.drop([\"category\",\"tags\"],axis=1, inplace=True)"
   ]
  },
  {
   "cell_type": "markdown",
   "metadata": {},
   "source": [
    "Now we have the 2 features that are useful for our further training steps.\n",
    "\n",
    "Let us see the train data"
   ]
  },
  {
   "cell_type": "code",
   "execution_count": 37,
   "metadata": {},
   "outputs": [
    {
     "data": {
      "text/html": [
       "<div>\n",
       "<style scoped>\n",
       "    .dataframe tbody tr th:only-of-type {\n",
       "        vertical-align: middle;\n",
       "    }\n",
       "\n",
       "    .dataframe tbody tr th {\n",
       "        vertical-align: top;\n",
       "    }\n",
       "\n",
       "    .dataframe thead th {\n",
       "        text-align: right;\n",
       "    }\n",
       "</style>\n",
       "<table border=\"1\" class=\"dataframe\">\n",
       "  <thead>\n",
       "    <tr style=\"text-align: right;\">\n",
       "      <th></th>\n",
       "      <th>utterance</th>\n",
       "      <th>intent</th>\n",
       "    </tr>\n",
       "  </thead>\n",
       "  <tbody>\n",
       "    <tr>\n",
       "      <th>0</th>\n",
       "      <td>would it be possible to cancel the order I made?</td>\n",
       "      <td>cancel_order</td>\n",
       "    </tr>\n",
       "    <tr>\n",
       "      <th>1</th>\n",
       "      <td>cancelling order</td>\n",
       "      <td>cancel_order</td>\n",
       "    </tr>\n",
       "    <tr>\n",
       "      <th>2</th>\n",
       "      <td>I need assistance canceling the last order I h...</td>\n",
       "      <td>cancel_order</td>\n",
       "    </tr>\n",
       "    <tr>\n",
       "      <th>3</th>\n",
       "      <td>problem with canceling the order I made</td>\n",
       "      <td>cancel_order</td>\n",
       "    </tr>\n",
       "    <tr>\n",
       "      <th>4</th>\n",
       "      <td>I don't know how to cancel the order I made</td>\n",
       "      <td>cancel_order</td>\n",
       "    </tr>\n",
       "    <tr>\n",
       "      <th>...</th>\n",
       "      <td>...</td>\n",
       "      <td>...</td>\n",
       "    </tr>\n",
       "    <tr>\n",
       "      <th>6534</th>\n",
       "      <td>I do not know what I have to do to track the r...</td>\n",
       "      <td>track_refund</td>\n",
       "    </tr>\n",
       "    <tr>\n",
       "      <th>6535</th>\n",
       "      <td>check refund status</td>\n",
       "      <td>track_refund</td>\n",
       "    </tr>\n",
       "    <tr>\n",
       "      <th>6536</th>\n",
       "      <td>help me check the refund status</td>\n",
       "      <td>track_refund</td>\n",
       "    </tr>\n",
       "    <tr>\n",
       "      <th>6537</th>\n",
       "      <td>how can I check if there is any updates on my ...</td>\n",
       "      <td>track_refund</td>\n",
       "    </tr>\n",
       "    <tr>\n",
       "      <th>6538</th>\n",
       "      <td>how do I check if there is anything wrong with...</td>\n",
       "      <td>track_refund</td>\n",
       "    </tr>\n",
       "  </tbody>\n",
       "</table>\n",
       "<p>6539 rows × 2 columns</p>\n",
       "</div>"
      ],
      "text/plain": [
       "                                              utterance        intent\n",
       "0      would it be possible to cancel the order I made?  cancel_order\n",
       "1                                      cancelling order  cancel_order\n",
       "2     I need assistance canceling the last order I h...  cancel_order\n",
       "3               problem with canceling the order I made  cancel_order\n",
       "4           I don't know how to cancel the order I made  cancel_order\n",
       "...                                                 ...           ...\n",
       "6534  I do not know what I have to do to track the r...  track_refund\n",
       "6535                                check refund status  track_refund\n",
       "6536                    help me check the refund status  track_refund\n",
       "6537  how can I check if there is any updates on my ...  track_refund\n",
       "6538  how do I check if there is anything wrong with...  track_refund\n",
       "\n",
       "[6539 rows x 2 columns]"
      ]
     },
     "execution_count": 37,
     "metadata": {},
     "output_type": "execute_result"
    }
   ],
   "source": [
    "train_data"
   ]
  },
  {
   "cell_type": "code",
   "execution_count": 38,
   "metadata": {},
   "outputs": [
    {
     "data": {
      "text/html": [
       "<div>\n",
       "<style scoped>\n",
       "    .dataframe tbody tr th:only-of-type {\n",
       "        vertical-align: middle;\n",
       "    }\n",
       "\n",
       "    .dataframe tbody tr th {\n",
       "        vertical-align: top;\n",
       "    }\n",
       "\n",
       "    .dataframe thead th {\n",
       "        text-align: right;\n",
       "    }\n",
       "</style>\n",
       "<table border=\"1\" class=\"dataframe\">\n",
       "  <thead>\n",
       "    <tr style=\"text-align: right;\">\n",
       "      <th></th>\n",
       "      <th>utterance</th>\n",
       "      <th>intent</th>\n",
       "    </tr>\n",
       "  </thead>\n",
       "  <tbody>\n",
       "    <tr>\n",
       "      <th>0</th>\n",
       "      <td>I have a question about cancelling an order</td>\n",
       "      <td>cancel_order</td>\n",
       "    </tr>\n",
       "    <tr>\n",
       "      <th>1</th>\n",
       "      <td>help canceling the order I have made</td>\n",
       "      <td>cancel_order</td>\n",
       "    </tr>\n",
       "    <tr>\n",
       "      <th>2</th>\n",
       "      <td>I do not know how to cancel an order I have made</td>\n",
       "      <td>cancel_order</td>\n",
       "    </tr>\n",
       "    <tr>\n",
       "      <th>3</th>\n",
       "      <td>where can I cancel the last order I made?</td>\n",
       "      <td>cancel_order</td>\n",
       "    </tr>\n",
       "    <tr>\n",
       "      <th>4</th>\n",
       "      <td>I don't want the last order I made</td>\n",
       "      <td>cancel_order</td>\n",
       "    </tr>\n",
       "    <tr>\n",
       "      <th>...</th>\n",
       "      <td>...</td>\n",
       "      <td>...</td>\n",
       "    </tr>\n",
       "    <tr>\n",
       "      <th>813</th>\n",
       "      <td>I am trying to check the status of my refund</td>\n",
       "      <td>track_refund</td>\n",
       "    </tr>\n",
       "    <tr>\n",
       "      <th>814</th>\n",
       "      <td>help checking the refund status</td>\n",
       "      <td>track_refund</td>\n",
       "    </tr>\n",
       "    <tr>\n",
       "      <th>815</th>\n",
       "      <td>will you show me my refund status?</td>\n",
       "      <td>track_refund</td>\n",
       "    </tr>\n",
       "    <tr>\n",
       "      <th>816</th>\n",
       "      <td>help to track the refund</td>\n",
       "      <td>track_refund</td>\n",
       "    </tr>\n",
       "    <tr>\n",
       "      <th>817</th>\n",
       "      <td>I am trying to track the refund</td>\n",
       "      <td>track_refund</td>\n",
       "    </tr>\n",
       "  </tbody>\n",
       "</table>\n",
       "<p>818 rows × 2 columns</p>\n",
       "</div>"
      ],
      "text/plain": [
       "                                            utterance        intent\n",
       "0         I have a question about cancelling an order  cancel_order\n",
       "1                help canceling the order I have made  cancel_order\n",
       "2    I do not know how to cancel an order I have made  cancel_order\n",
       "3           where can I cancel the last order I made?  cancel_order\n",
       "4                  I don't want the last order I made  cancel_order\n",
       "..                                                ...           ...\n",
       "813      I am trying to check the status of my refund  track_refund\n",
       "814                   help checking the refund status  track_refund\n",
       "815                will you show me my refund status?  track_refund\n",
       "816                          help to track the refund  track_refund\n",
       "817                   I am trying to track the refund  track_refund\n",
       "\n",
       "[818 rows x 2 columns]"
      ]
     },
     "execution_count": 38,
     "metadata": {},
     "output_type": "execute_result"
    }
   ],
   "source": [
    "test_data"
   ]
  },
  {
   "cell_type": "code",
   "execution_count": 39,
   "metadata": {},
   "outputs": [
    {
     "data": {
      "text/html": [
       "<div>\n",
       "<style scoped>\n",
       "    .dataframe tbody tr th:only-of-type {\n",
       "        vertical-align: middle;\n",
       "    }\n",
       "\n",
       "    .dataframe tbody tr th {\n",
       "        vertical-align: top;\n",
       "    }\n",
       "\n",
       "    .dataframe thead th {\n",
       "        text-align: right;\n",
       "    }\n",
       "</style>\n",
       "<table border=\"1\" class=\"dataframe\">\n",
       "  <thead>\n",
       "    <tr style=\"text-align: right;\">\n",
       "      <th></th>\n",
       "      <th>utterance</th>\n",
       "      <th>intent</th>\n",
       "    </tr>\n",
       "  </thead>\n",
       "  <tbody>\n",
       "    <tr>\n",
       "      <th>0</th>\n",
       "      <td>I want help to cancel the order I have made</td>\n",
       "      <td>cancel_order</td>\n",
       "    </tr>\n",
       "    <tr>\n",
       "      <th>1</th>\n",
       "      <td>where can I get information about order cancel...</td>\n",
       "      <td>cancel_order</td>\n",
       "    </tr>\n",
       "    <tr>\n",
       "      <th>2</th>\n",
       "      <td>help to cancel the last order</td>\n",
       "      <td>cancel_order</td>\n",
       "    </tr>\n",
       "    <tr>\n",
       "      <th>3</th>\n",
       "      <td>I need help with canceling an order I made</td>\n",
       "      <td>cancel_order</td>\n",
       "    </tr>\n",
       "    <tr>\n",
       "      <th>4</th>\n",
       "      <td>I do not know how I can cancel the order I made</td>\n",
       "      <td>cancel_order</td>\n",
       "    </tr>\n",
       "    <tr>\n",
       "      <th>...</th>\n",
       "      <td>...</td>\n",
       "      <td>...</td>\n",
       "    </tr>\n",
       "    <tr>\n",
       "      <th>813</th>\n",
       "      <td>I try to check the refund status</td>\n",
       "      <td>track_refund</td>\n",
       "    </tr>\n",
       "    <tr>\n",
       "      <th>814</th>\n",
       "      <td>I want assistance to check the refund status</td>\n",
       "      <td>track_refund</td>\n",
       "    </tr>\n",
       "    <tr>\n",
       "      <th>815</th>\n",
       "      <td>I want assistance checking the status of the r...</td>\n",
       "      <td>track_refund</td>\n",
       "    </tr>\n",
       "    <tr>\n",
       "      <th>816</th>\n",
       "      <td>how can I check my refund status?</td>\n",
       "      <td>track_refund</td>\n",
       "    </tr>\n",
       "    <tr>\n",
       "      <th>817</th>\n",
       "      <td>where do I track the refund?</td>\n",
       "      <td>track_refund</td>\n",
       "    </tr>\n",
       "  </tbody>\n",
       "</table>\n",
       "<p>818 rows × 2 columns</p>\n",
       "</div>"
      ],
      "text/plain": [
       "                                             utterance        intent\n",
       "0          I want help to cancel the order I have made  cancel_order\n",
       "1    where can I get information about order cancel...  cancel_order\n",
       "2                        help to cancel the last order  cancel_order\n",
       "3           I need help with canceling an order I made  cancel_order\n",
       "4      I do not know how I can cancel the order I made  cancel_order\n",
       "..                                                 ...           ...\n",
       "813                   I try to check the refund status  track_refund\n",
       "814       I want assistance to check the refund status  track_refund\n",
       "815  I want assistance checking the status of the r...  track_refund\n",
       "816                  how can I check my refund status?  track_refund\n",
       "817                       where do I track the refund?  track_refund\n",
       "\n",
       "[818 rows x 2 columns]"
      ]
     },
     "execution_count": 39,
     "metadata": {},
     "output_type": "execute_result"
    }
   ],
   "source": [
    "validate_data"
   ]
  },
  {
   "cell_type": "code",
   "execution_count": 31,
   "metadata": {},
   "outputs": [],
   "source": [
    "from sentence_transformers import SentenceTransformer\n",
    "\n",
    "def ember_v1_model():\n",
    "    model = SentenceTransformer('llmrails/ember-v1')\n",
    "    return model"
   ]
  },
  {
   "cell_type": "code",
   "execution_count": 32,
   "metadata": {},
   "outputs": [],
   "source": [
    "model = ember_v1_model()\n"
   ]
  },
  {
   "cell_type": "code",
   "execution_count": 33,
   "metadata": {},
   "outputs": [],
   "source": [
    "features_df = train_data[\"utterance\"]\n",
    "\n",
    "train_final_list = []\n",
    "for each_one in features_df:\n",
    "    temp = model.encode(each_one)\n",
    "    train_final_list.append(temp)\n",
    "np.savez(\"train_features.npz\",train_final_list)"
   ]
  },
  {
   "cell_type": "code",
   "execution_count": 34,
   "metadata": {},
   "outputs": [],
   "source": [
    "test_final_list = []\n",
    "features_df = test_data[\"utterance\"]\n",
    "for each_one in features_df:\n",
    "    temp = model.encode(each_one)\n",
    "    test_final_list.append(temp)\n",
    "np.savez(\"test_features.npz\",test_final_list)"
   ]
  },
  {
   "cell_type": "code",
   "execution_count": 35,
   "metadata": {},
   "outputs": [],
   "source": [
    "features_df = validate_data[\"utterance\"]\n",
    "validate_final_list = []\n",
    "for each_one in features_df:\n",
    "    temp = model.encode(each_one)\n",
    "    validate_final_list.append(temp)\n",
    "np.savez(\"validate_features.npz\",validate_final_list)"
   ]
  },
  {
   "cell_type": "code",
   "execution_count": 2,
   "metadata": {},
   "outputs": [],
   "source": [
    "import numpy as np"
   ]
  },
  {
   "cell_type": "code",
   "execution_count": 20,
   "metadata": {},
   "outputs": [],
   "source": [
    "train_data_np =  np.load(\"train_features.npz\")\n",
    "final_train = []\n",
    "for each in train_data_np:\n",
    "    for each_one in train_data_np[each]:\n",
    "        final_train.append(each_one)"
   ]
  },
  {
   "cell_type": "code",
   "execution_count": 24,
   "metadata": {},
   "outputs": [
    {
     "data": {
      "text/plain": [
       "6539"
      ]
     },
     "execution_count": 24,
     "metadata": {},
     "output_type": "execute_result"
    }
   ],
   "source": [
    "len(final_train)\n"
   ]
  },
  {
   "cell_type": "code",
   "execution_count": 86,
   "metadata": {},
   "outputs": [],
   "source": [
    "final_train = np.array(final_train)"
   ]
  },
  {
   "cell_type": "code",
   "execution_count": 87,
   "metadata": {},
   "outputs": [
    {
     "data": {
      "text/plain": [
       "array([[-1.3691249 , -0.6410487 , -0.5025571 , ..., -0.00764036,\n",
       "         0.10406983,  0.21604803],\n",
       "       [-1.2976571 , -0.49875304, -0.50327754, ..., -0.07431225,\n",
       "        -0.00407584, -0.15078425],\n",
       "       [-0.86577034, -0.41718236, -0.7972672 , ...,  0.0173731 ,\n",
       "         0.3606208 ,  0.21397698],\n",
       "       ...,\n",
       "       [-0.76063746, -0.63435304, -0.57827383, ...,  0.00490011,\n",
       "         0.29214126, -0.34973904],\n",
       "       [-1.0726885 , -0.52200526, -1.0181926 , ..., -0.0625227 ,\n",
       "         0.8111133 , -0.44875106],\n",
       "       [-1.5697381 , -0.4213627 ,  0.00645778, ...,  0.50359565,\n",
       "         0.8847217 , -0.5201226 ]], dtype=float32)"
      ]
     },
     "execution_count": 87,
     "metadata": {},
     "output_type": "execute_result"
    }
   ],
   "source": [
    "final_train"
   ]
  },
  {
   "cell_type": "code",
   "execution_count": 28,
   "metadata": {},
   "outputs": [
    {
     "data": {
      "text/plain": [
       "array([-1.3691249 , -0.6410487 , -0.5025571 , ..., -0.00764036,\n",
       "        0.10406983,  0.21604803], dtype=float32)"
      ]
     },
     "execution_count": 28,
     "metadata": {},
     "output_type": "execute_result"
    }
   ],
   "source": [
    "final_train[0]"
   ]
  },
  {
   "cell_type": "code",
   "execution_count": 6,
   "metadata": {},
   "outputs": [
    {
     "name": "stdout",
     "output_type": "stream",
     "text": [
      "[[-1.1663187  -0.33771586 -0.52927387 ...  0.08022645 -0.0076628\n",
      "  -0.18330927]\n",
      " [-1.2741491  -0.52940094 -0.40427208 ...  0.04489823  0.33889484\n",
      "   0.13226089]\n",
      " [-1.3634517  -0.3503787  -0.6910494  ... -0.05542524  0.36930454\n",
      "   0.40507838]\n",
      " ...\n",
      " [-0.7286261  -0.95845425 -0.71702945 ... -0.22818372  0.70854145\n",
      "  -0.33313057]\n",
      " [-0.70779973 -0.5171747  -0.611316   ... -0.4135635   0.7869561\n",
      "   0.07037174]\n",
      " [-0.90344554 -0.74527895 -0.91667706 ... -0.594457    0.6770198\n",
      "   0.05837843]]\n"
     ]
    }
   ],
   "source": [
    "test_data_np=  np.load(\"test_features.npz\")\n",
    "final_test = []\n",
    "for each in test_data_np:\n",
    "    for each_one in test_data_np[each]:\n",
    "        final_test.append(each_one)"
   ]
  },
  {
   "cell_type": "code",
   "execution_count": null,
   "metadata": {},
   "outputs": [],
   "source": [
    "len(final_test)"
   ]
  },
  {
   "cell_type": "code",
   "execution_count": 7,
   "metadata": {},
   "outputs": [
    {
     "name": "stdout",
     "output_type": "stream",
     "text": [
      "[[-1.3657961  -0.6243776  -0.7116599  ... -0.2378584   0.07071696\n",
      "   0.36386478]\n",
      " [-1.4766105  -0.3849994  -1.2223792  ...  0.15315934  0.32084906\n",
      "  -0.55768824]\n",
      " [-0.6571302  -0.14576875 -0.6051564  ...  0.36052245  0.15119116\n",
      "   0.04591488]\n",
      " ...\n",
      " [-0.8223039  -0.722985   -0.72018695 ... -0.11578719  0.563442\n",
      "  -0.16502263]\n",
      " [-1.1998519  -0.5538418  -0.5727353  ... -0.01441332  0.36992216\n",
      "  -0.36040765]\n",
      " [-1.064647   -0.50514835 -0.70793825 ... -0.6125901   0.9412695\n",
      "  -0.05493889]]\n"
     ]
    }
   ],
   "source": [
    "validate_data_np =  np.load(\"validate_features.npz\")\n",
    "final_validate = []\n",
    "for each in validate_data_np:\n",
    "    for each_one in validate_data_np[each]:\n",
    "        final_validate.append(each_one)"
   ]
  },
  {
   "cell_type": "code",
   "execution_count": 65,
   "metadata": {},
   "outputs": [],
   "source": []
  },
  {
   "cell_type": "code",
   "execution_count": 66,
   "metadata": {},
   "outputs": [
    {
     "data": {
      "text/plain": [
       "{'cancel_order': 1,\n",
       " 'change_order': 2,\n",
       " 'change_shipping_address': 3,\n",
       " 'check_cancellation_fee': 4,\n",
       " 'check_invoice': 5,\n",
       " 'check_payment_methods': 6,\n",
       " 'check_refund_policy': 7,\n",
       " 'complaint': 8,\n",
       " 'contact_customer_service': 9,\n",
       " 'contact_human_agent': 10,\n",
       " 'create_account': 11,\n",
       " 'delete_account': 12,\n",
       " 'delivery_options': 13,\n",
       " 'delivery_period': 14,\n",
       " 'edit_account': 15,\n",
       " 'get_invoice': 16,\n",
       " 'get_refund': 17,\n",
       " 'newsletter_subscription': 18,\n",
       " 'payment_issue': 19,\n",
       " 'place_order': 20,\n",
       " 'recover_password': 21,\n",
       " 'registration_problems': 22,\n",
       " 'review': 23,\n",
       " 'set_up_shipping_address': 24,\n",
       " 'switch_account': 25,\n",
       " 'track_order': 26,\n",
       " 'track_refund': 27}"
      ]
     },
     "execution_count": 66,
     "metadata": {},
     "output_type": "execute_result"
    }
   ],
   "source": []
  },
  {
   "cell_type": "code",
   "execution_count": 89,
   "metadata": {},
   "outputs": [],
   "source": [
    "def read_data():\n",
    "    import json\n",
    "    import pandas as pd\n",
    "\n",
    "    train_data = pd.read_csv(\"Bitext_Sample_Customer_Service_Training_Dataset.csv\")\n",
    "    test_data = pd.read_csv(\"Bitext_Sample_Customer_Service_Testing_Dataset.csv\")\n",
    "    validate_data =  pd.read_csv(\"Bitext_Sample_Customer_Service_validation_Dataset.csv\")\n",
    "\n",
    "    train_data_labels = train_data[[\"intent\"]]\n",
    "    test_data_labels = test_data[[\"intent\"]]\n",
    "    validate_data_labels = validate_data[[\"intent\"]]\n",
    "\n",
    "\n",
    "    with open(\"mapping.json\",\"r\") as f:\n",
    "        mapping_data = json.load(f)\n",
    "\n",
    "    mapping_data\n",
    "    train_data_labels['intent'] = train_data_labels['intent'].map(mapping_data).fillna(train_data_labels['intent'])\n",
    "    validate_data_labels[\"intent\"] = validate_data_labels[\"intent\"].map(mapping_data).fillna(validate_data_labels[\"intent\"])\n",
    "    test_data_labels[\"intent\"] = test_data_labels[\"intent\"].map(mapping_data).fillna(test_data_labels[\"intent\"])\n",
    "\n",
    "    return np.array(train_data_labels), np.array(test_data_labels), np.array(validate_data_labels)"
   ]
  },
  {
   "cell_type": "code",
   "execution_count": 90,
   "metadata": {},
   "outputs": [
    {
     "name": "stderr",
     "output_type": "stream",
     "text": [
      "C:\\Users\\DELL\\AppData\\Local\\Temp\\ipykernel_27728\\46245637.py:18: SettingWithCopyWarning: \n",
      "A value is trying to be set on a copy of a slice from a DataFrame.\n",
      "Try using .loc[row_indexer,col_indexer] = value instead\n",
      "\n",
      "See the caveats in the documentation: https://pandas.pydata.org/pandas-docs/stable/user_guide/indexing.html#returning-a-view-versus-a-copy\n",
      "  train_data_labels['intent'] = train_data_labels['intent'].map(mapping_data).fillna(train_data_labels['intent'])\n",
      "C:\\Users\\DELL\\AppData\\Local\\Temp\\ipykernel_27728\\46245637.py:19: SettingWithCopyWarning: \n",
      "A value is trying to be set on a copy of a slice from a DataFrame.\n",
      "Try using .loc[row_indexer,col_indexer] = value instead\n",
      "\n",
      "See the caveats in the documentation: https://pandas.pydata.org/pandas-docs/stable/user_guide/indexing.html#returning-a-view-versus-a-copy\n",
      "  validate_data_labels[\"intent\"] = validate_data_labels[\"intent\"].map(mapping_data).fillna(validate_data_labels[\"intent\"])\n",
      "C:\\Users\\DELL\\AppData\\Local\\Temp\\ipykernel_27728\\46245637.py:20: SettingWithCopyWarning: \n",
      "A value is trying to be set on a copy of a slice from a DataFrame.\n",
      "Try using .loc[row_indexer,col_indexer] = value instead\n",
      "\n",
      "See the caveats in the documentation: https://pandas.pydata.org/pandas-docs/stable/user_guide/indexing.html#returning-a-view-versus-a-copy\n",
      "  test_data_labels[\"intent\"] = test_data_labels[\"intent\"].map(mapping_data).fillna(test_data_labels[\"intent\"])\n"
     ]
    }
   ],
   "source": [
    "train_labels, test_labels, validate_labels = read_data()"
   ]
  },
  {
   "cell_type": "code",
   "execution_count": 92,
   "metadata": {},
   "outputs": [
    {
     "data": {
      "text/plain": [
       "array([[ 1],\n",
       "       [ 1],\n",
       "       [ 1],\n",
       "       ...,\n",
       "       [27],\n",
       "       [27],\n",
       "       [27]], dtype=int64)"
      ]
     },
     "execution_count": 92,
     "metadata": {},
     "output_type": "execute_result"
    }
   ],
   "source": [
    "train_labels"
   ]
  },
  {
   "cell_type": "code",
   "execution_count": null,
   "metadata": {},
   "outputs": [],
   "source": []
  }
 ],
 "metadata": {
  "kernelspec": {
   "display_name": "customer_support_bot_env",
   "language": "python",
   "name": "python3"
  },
  "language_info": {
   "codemirror_mode": {
    "name": "ipython",
    "version": 3
   },
   "file_extension": ".py",
   "mimetype": "text/x-python",
   "name": "python",
   "nbconvert_exporter": "python",
   "pygments_lexer": "ipython3",
   "version": "3.10.2"
  }
 },
 "nbformat": 4,
 "nbformat_minor": 2
}
